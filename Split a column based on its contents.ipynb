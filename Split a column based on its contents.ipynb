{
 "cells": [
  {
   "cell_type": "code",
   "execution_count": null,
   "metadata": {},
   "outputs": [],
   "source": [
    "#split a column based on its contents\n",
    "#e.g.: split_columns(dataframe, ‘tag’, ‘category’, ‘subcategory’, ‘_‘)\n",
    "\n",
    "\n",
    "def split_columns(df, orig, one, two, separator):\n",
    "\t\"\"\"\n",
    "\torig: string name of the column we want to split\n",
    "\tone: string name of the first new column\n",
    "\ttwo: string name of the second new column\n",
    "\tseparator: string - this is the character(s) that will define where to split\n",
    "\t\"\"\"\n",
    "\tdf[[one,two]] = df[orig].str.split(separator,expand=True)\n"
   ]
  }
 ],
 "metadata": {
  "kernelspec": {
   "display_name": "Python 3",
   "language": "python",
   "name": "python3"
  },
  "language_info": {
   "codemirror_mode": {
    "name": "ipython",
    "version": 3
   },
   "file_extension": ".py",
   "mimetype": "text/x-python",
   "name": "python",
   "nbconvert_exporter": "python",
   "pygments_lexer": "ipython3",
   "version": "3.7.4"
  }
 },
 "nbformat": 4,
 "nbformat_minor": 2
}
