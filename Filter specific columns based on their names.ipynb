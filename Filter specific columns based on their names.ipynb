{
 "cells": [
  {
   "cell_type": "code",
   "execution_count": null,
   "metadata": {},
   "outputs": [],
   "source": [
    "#filter specific columns based on their names\n",
    "\n",
    "\n",
    "def df_filter(df, string):\n",
    "    new = df.filter(regex=string)\n",
    "    return new\n",
    "\n",
    "# Example\n",
    "data = [{'2018_inc': 10, '2019_inc': 12, '2018_rev':23}, {'2018_inc':10, '2019_inc': 20, '2018_rev': 30}]\n",
    "df = pd.DataFrame(data)\n",
    "y_2018 = df_filter(df, '2018') # getting all columns with 2018 in their names"
   ]
  }
 ],
 "metadata": {
  "kernelspec": {
   "display_name": "Python 3",
   "language": "python",
   "name": "python3"
  },
  "language_info": {
   "codemirror_mode": {
    "name": "ipython",
    "version": 3
   },
   "file_extension": ".py",
   "mimetype": "text/x-python",
   "name": "python",
   "nbconvert_exporter": "python",
   "pygments_lexer": "ipython3",
   "version": "3.7.4"
  }
 },
 "nbformat": 4,
 "nbformat_minor": 2
}
