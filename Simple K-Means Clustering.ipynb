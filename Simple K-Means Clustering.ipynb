{
 "cells": [
  {
   "cell_type": "code",
   "execution_count": null,
   "metadata": {},
   "outputs": [],
   "source": [
    "#Simple K-Means Clustering: Traffic_London\n",
    "\n",
    "import pandas as pd\n",
    "import pylab as pl\n",
    "from sklearn.cluster import KMeans\n",
    "from sklearn.decomposition import PCA\n",
    "variables = pd.read_csv('cityoflondon.csv')\n",
    "Y = variables[['CarsTaxis']]\n",
    "X = variables[['PedalCycles']]\n",
    "StartJunction = variables[['StartJunction']]\n",
    "EndJunction = variables[['EndJunction']]\n",
    "X_norm = (X - X.mean()) / (X.max() - X.min())\n",
    "Y_norm = (Y - Y.mean()) / (Y.max() - Y.min())\n",
    "pl.scatter(Y_norm,X_norm)\n",
    "pl.show()"
   ]
  },
  {
   "cell_type": "code",
   "execution_count": null,
   "metadata": {},
   "outputs": [],
   "source": [
    "#Elbow curve\n",
    "\n",
    "Nc = range(1, 20)\n",
    "kmeans = [KMeans(n_clusters=i) for i in Nc]\n",
    "kmeans\n",
    "score = [kmeans[i].fit(Y_norm).score(Y_norm) for i in range(len(kmeans))]\n",
    "score\n",
    "pl.plot(Nc,score)\n",
    "pl.xlabel('Number of Clusters')\n",
    "pl.ylabel('Score')\n",
    "pl.title('Elbow Curve')\n",
    "pl.show()"
   ]
  },
  {
   "cell_type": "code",
   "execution_count": null,
   "metadata": {},
   "outputs": [],
   "source": [
    "#Principal Component Analysis and K-Means\n",
    "\n",
    "pca = PCA(n_components=1).fit(Y_norm)\n",
    "pca_d = pca.transform(Y_norm)\n",
    "pca_c = pca.transform(X_norm)"
   ]
  },
  {
   "cell_type": "code",
   "execution_count": null,
   "metadata": {},
   "outputs": [],
   "source": [
    "#Actual clustering\n",
    "\n",
    "kmeans=KMeans(n_clusters=6)\n",
    "kmeansoutput=kmeans.fit(Y_norm)\n",
    "kmeansoutput\n",
    "pl.figure('6 Cluster K-Means')\n",
    "pl.scatter(pca_d[:, 0], pca_c[:, 0], c=kmeansoutput.labels_)"
   ]
  },
  {
   "cell_type": "code",
   "execution_count": null,
   "metadata": {},
   "outputs": [],
   "source": [
    "#Generate labels\n",
    "\n",
    "labels=kmeansoutput.labels_\n",
    "labels"
   ]
  },
  {
   "cell_type": "code",
   "execution_count": null,
   "metadata": {},
   "outputs": [],
   "source": [
    "#Plot clustering\n",
    "\n",
    "pl.xlabel('Cycles')\n",
    "pl.ylabel('Cars and Taxis')\n",
    "pl.title('6 Cluster K-Means')\n",
    "pl.show()"
   ]
  }
 ],
 "metadata": {
  "kernelspec": {
   "display_name": "Python 3",
   "language": "python",
   "name": "python3"
  },
  "language_info": {
   "codemirror_mode": {
    "name": "ipython",
    "version": 3
   },
   "file_extension": ".py",
   "mimetype": "text/x-python",
   "name": "python",
   "nbconvert_exporter": "python",
   "pygments_lexer": "ipython3",
   "version": "3.7.4"
  }
 },
 "nbformat": 4,
 "nbformat_minor": 2
}
