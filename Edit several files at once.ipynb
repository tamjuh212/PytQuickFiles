{
 "cells": [
  {
   "cell_type": "code",
   "execution_count": null,
   "metadata": {},
   "outputs": [],
   "source": [
    "#edit several files at once\n",
    "\n",
    "import glob\n",
    "import pandas as pd\n",
    "\n",
    "def mass_edit(file_prefix, folder_path=''):\n",
    "    \"\"\"\n",
    "    file_prefix: string that defines new file name\n",
    "    folder_path: no need to declare it. string copied from file explorer to the folder where the files are\n",
    "\t\"\"\"\n",
    "    if folder_path == '':\n",
    "        folder_path = input('Please enter the path where the CSV files are:\\n')\n",
    "    folder_path = folder_path.replace(\"\\\\\",\"/\")\n",
    "    if folder_path[:-1] != \"/\":\n",
    "        folder_path = folder_path + \"/\"\n",
    "\t\t\n",
    "\tfile_list = glob.glob(folder_path + '*.csv')\n",
    "\n",
    "\tfor file in file_list:\n",
    "\t\tname_pos = file.rfind('\\\\')\n",
    "\t\tdata = pd.read_csv(file)\n",
    "\t\t# changes go here!!\n",
    "\t\tdata['seniority'] = data['seniority'] + 1 #in this case, i just needed to add 1 to this column in each file\n",
    "\t\t# until here!!\n",
    "\t\tdata.to_csv(folder_path + file[name_pos+1:], index=False) #saving the file again with same name\n",
    "\t\tprint(file+' ready!!')"
   ]
  }
 ],
 "metadata": {
  "kernelspec": {
   "display_name": "Python 3",
   "language": "python",
   "name": "python3"
  },
  "language_info": {
   "codemirror_mode": {
    "name": "ipython",
    "version": 3
   },
   "file_extension": ".py",
   "mimetype": "text/x-python",
   "name": "python",
   "nbconvert_exporter": "python",
   "pygments_lexer": "ipython3",
   "version": "3.7.4"
  }
 },
 "nbformat": 4,
 "nbformat_minor": 2
}
