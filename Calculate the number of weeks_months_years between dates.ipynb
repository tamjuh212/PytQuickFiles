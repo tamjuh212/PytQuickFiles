{
 "cells": [
  {
   "cell_type": "code",
   "execution_count": null,
   "metadata": {},
   "outputs": [],
   "source": [
    "#calculate the number of weeks_months_years between dates\n",
    "#The first function get_date_int is necessary so we can separate the year, month and week from each date.\n",
    "#The function will return an integer for each variable, and we will incorporate it in the calc_cohorts function.\n",
    "\n",
    "\n",
    "def get_date_int(df, date_column):\n",
    "\tyear = df[date_column].dt.year\n",
    "\tmonth = df[date_column].dt.month\n",
    "\tweek = df[date_column].dt.week\n",
    "\treturn year, month, week\n",
    "\n",
    "def calc_cohorts(df, signup_date, last_active):\n",
    "\t\"\"\"\n",
    "\tsignup_date: name of the column with the signup date\n",
    "\tlast_active: name of the column with the last login\n",
    "\t\"\"\"\n",
    "\tsign_year, sign_month, sign_week = get_date_int(df, signup_date)\n",
    "\tlastlogin_year, lastlogin_month, lastlogin_week = get_date_int(df, last_active)\n",
    "\tyears_diff = lastlogin_year - sign_year\n",
    "\tmonths_diff = lastlogin_month - sign_month\n",
    "\tweeks_diff = lastlogin_week - sign_week\n",
    "\tdf['cohort_W'] = years_diff * 52 + weeks_diff + 1\n",
    "\tdf['cohort_M'] = years_diff * 12 + months_diff + 1"
   ]
  }
 ],
 "metadata": {
  "kernelspec": {
   "display_name": "Python 3",
   "language": "python",
   "name": "python3"
  },
  "language_info": {
   "codemirror_mode": {
    "name": "ipython",
    "version": 3
   },
   "file_extension": ".py",
   "mimetype": "text/x-python",
   "name": "python",
   "nbconvert_exporter": "python",
   "pygments_lexer": "ipython3",
   "version": "3.7.4"
  }
 },
 "nbformat": 4,
 "nbformat_minor": 2
}
