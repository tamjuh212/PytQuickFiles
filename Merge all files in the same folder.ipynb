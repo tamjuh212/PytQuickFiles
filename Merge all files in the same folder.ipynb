{
 "cells": [
  {
   "cell_type": "code",
   "execution_count": null,
   "metadata": {},
   "outputs": [],
   "source": [
    "# merge all files in the same folder CSV\n",
    "# merge the files in memory only (optional)\n",
    "\n",
    "import glob\n",
    "import pandas as pd\n",
    "from time import strftime\n",
    "\n",
    "def folder_csv_merge(file_prefix, folder_path='', memory='no'):\n",
    "    \"\"\"\n",
    "    file_prefix: if you want to add a prefix to the name of final merged file\n",
    "    folder_path: no need to declare it. string copied from file explorer to the folder where the files are\n",
    "    \"\"\"\n",
    "    if folder_path == '':\n",
    "        folder_path = input('Please enter the path where the CSV files are:\\n')\n",
    "    folder_path = folder_path.replace(\"\\\\\",\"/\")\n",
    "    if folder_path[:-1] != \"/\":\n",
    "        folder_path = folder_path + \"/\"\n",
    "\n",
    "    file_list = glob.glob(folder_path + '*.csv')\n",
    "\n",
    "    combined = pd.concat( [ pd.read_csv(f) for f in file_list ] )\n",
    "    if memory == 'no':\n",
    "        combined.to_csv(folder_path + 'combined_{}_{}.csv'.format(file_prefix, strftime(\"%Y%m%d-%H%M%S\")), index=False)\n",
    "    else:\n",
    "        return combined\n",
    "    print('done')\n",
    "\n"
   ]
  }
 ],
 "metadata": {
  "kernelspec": {
   "display_name": "Python 3",
   "language": "python",
   "name": "python3"
  },
  "language_info": {
   "codemirror_mode": {
    "name": "ipython",
    "version": 3
   },
   "file_extension": ".py",
   "mimetype": "text/x-python",
   "name": "python",
   "nbconvert_exporter": "python",
   "pygments_lexer": "ipython3",
   "version": "3.7.4"
  }
 },
 "nbformat": 4,
 "nbformat_minor": 2
}
